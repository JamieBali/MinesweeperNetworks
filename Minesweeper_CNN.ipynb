{
  "nbformat": 4,
  "nbformat_minor": 0,
  "metadata": {
    "colab": {
      "provenance": [],
      "authorship_tag": "ABX9TyNNEnE3cnIZ18buGoc3Sota",
      "include_colab_link": true
    },
    "kernelspec": {
      "name": "python3",
      "display_name": "Python 3"
    },
    "language_info": {
      "name": "python"
    }
  },
  "cells": [
    {
      "cell_type": "markdown",
      "metadata": {
        "id": "view-in-github",
        "colab_type": "text"
      },
      "source": [
        "<a href=\"https://colab.research.google.com/github/JamieBali/MinesweeperNetworks/blob/main/Minesweeper_CNN.ipynb\" target=\"_parent\"><img src=\"https://colab.research.google.com/assets/colab-badge.svg\" alt=\"Open In Colab\"/></a>"
      ]
    },
    {
      "cell_type": "markdown",
      "source": [
        "# CNN Minesweeper"
      ],
      "metadata": {
        "id": "yT2t4CIngX8s"
      }
    },
    {
      "cell_type": "markdown",
      "source": [
        "## Imports"
      ],
      "metadata": {
        "id": "lbdanVAkgo03"
      }
    },
    {
      "cell_type": "code",
      "source": [
        "import tensorflow as tf\n",
        "from tensorflow import keras\n",
        "import numpy as np\n",
        "import random as rand\n",
        "import math\n",
        "\n",
        "from keras.layers import Activation\n",
        "from keras.layers import Conv2D, BatchNormalization, Dense, Flatten, Reshape\n",
        "from sklearn.model_selection import train_test_split"
      ],
      "metadata": {
        "id": "_6CJrFLIgs5f"
      },
      "execution_count": 1,
      "outputs": []
    },
    {
      "cell_type": "markdown",
      "source": [
        "## Grid Construction"
      ],
      "metadata": {
        "id": "9bGHkoe-gtU0"
      }
    },
    {
      "cell_type": "code",
      "source": [
        "def construct_grid(size = (16,16), mines = 40):\n",
        "  grid = np.zeros(size)\n",
        "  total = 0\n",
        "  while total < mines:\n",
        "    x_loc = rand.randint(0, size[0]-1)\n",
        "    y_loc = rand.randint(0, size[1]-1)\n",
        "    if not(x_loc > 1 or y_loc > 1):\n",
        "      continue\n",
        "    if grid[x_loc][y_loc] == 9:\n",
        "      continue\n",
        "    grid[x_loc][y_loc] = 9\n",
        "    total += 1\n",
        "\n",
        "  for x in range(0,size[0]):\n",
        "    for y in range(0,size[1]):\n",
        "      if grid[x][y] == 9:\n",
        "        continue\n",
        "      minecount = 0\n",
        "      for x_offset in range(-1,2):\n",
        "        for y_offset in range(-1,2):\n",
        "          if 0 <= (x+x_offset) < size[0] and 0 <= (y+y_offset) < size[1]:\n",
        "            if grid[x+x_offset][y+y_offset] == 9:\n",
        "              minecount += 1\n",
        "      grid[x][y] = minecount\n",
        "  return grid\n",
        "\n",
        "def click(grid, mask, x_click, y_click):\n",
        "  if mask[x_click][y_click] == 1:\n",
        "    return mask\n",
        "  if grid[x_click][y_click] == 9:\n",
        "    return None\n",
        "  mask[x_click][y_click] = 1\n",
        "  if grid[x_click][y_click] == 0:\n",
        "    for x in range(-1,2):\n",
        "      for y in range(-1,2):\n",
        "        if (x != 0 or y != 0) and (0 <= x_click + x < len(grid)) and (0 <= y_click + y < len(grid[0])):\n",
        "          mask = click(grid, mask, x_click + x, y_click + y)\n",
        "  else:\n",
        "    mask[x_click][y_click] = 1\n",
        "  return mask\n",
        "\n",
        "def flag(grid, mask, x_flag, y_flag):\n",
        "  if mask[x_flag][y_flag] == 1:\n",
        "    return mask\n",
        "  if grid[x_flag][y_flag] != 9:\n",
        "    return None\n",
        "  mask[x_flag][y_flag] = 1\n",
        "  return mask\n",
        "  \n",
        "def display(grid, mask):\n",
        "  for x in range(len(grid)):\n",
        "    outstring = \"\"\n",
        "    for y in range(len(grid[x])):\n",
        "      if mask[x][y] == 0:\n",
        "        outstring += \"■ \"\n",
        "      else:\n",
        "        outstring += str(grid[x][y])[0] + \" \"\n",
        "    print(outstring)\n",
        "\n",
        "gr = construct_grid()\n",
        "#msk = np.zeros((16,16))\n",
        "#msk = click(gr, msk, 0, 0)\n",
        "#display(gr, msk)\n",
        "print(gr)"
      ],
      "metadata": {
        "colab": {
          "base_uri": "https://localhost:8080/"
        },
        "id": "6V-4oIyBg0Ec",
        "outputId": "65165708-cfbf-46fb-d1a6-7cd6e18631c4"
      },
      "execution_count": 70,
      "outputs": [
        {
          "output_type": "stream",
          "name": "stdout",
          "text": [
            "[[0. 0. 1. 9. 1. 1. 9. 1. 0. 0. 0. 0. 0. 1. 2. 2.]\n",
            " [0. 0. 2. 2. 2. 1. 2. 2. 2. 1. 2. 1. 1. 1. 9. 9.]\n",
            " [0. 0. 1. 9. 1. 0. 1. 9. 2. 9. 2. 9. 1. 2. 4. 4.]\n",
            " [1. 1. 1. 1. 1. 0. 1. 1. 3. 2. 3. 1. 1. 1. 9. 9.]\n",
            " [9. 2. 1. 1. 0. 0. 0. 0. 2. 9. 3. 1. 2. 3. 5. 9.]\n",
            " [1. 2. 9. 1. 0. 0. 1. 1. 3. 9. 3. 9. 3. 9. 9. 2.]\n",
            " [0. 1. 2. 2. 2. 1. 2. 9. 2. 1. 2. 1. 3. 9. 4. 2.]\n",
            " [0. 0. 1. 9. 2. 9. 2. 1. 1. 0. 0. 0. 1. 1. 2. 9.]\n",
            " [1. 2. 2. 3. 3. 2. 1. 0. 1. 1. 1. 1. 1. 1. 1. 1.]\n",
            " [9. 3. 9. 3. 9. 3. 2. 1. 1. 9. 1. 1. 9. 1. 0. 0.]\n",
            " [2. 9. 3. 9. 4. 9. 9. 2. 2. 2. 1. 1. 1. 1. 0. 0.]\n",
            " [1. 2. 3. 3. 4. 9. 3. 2. 9. 1. 0. 0. 0. 0. 0. 0.]\n",
            " [1. 2. 9. 2. 9. 2. 1. 1. 1. 1. 0. 0. 0. 0. 0. 0.]\n",
            " [2. 9. 3. 2. 1. 1. 0. 0. 0. 0. 0. 0. 0. 0. 1. 1.]\n",
            " [2. 9. 2. 0. 0. 0. 0. 0. 0. 1. 1. 1. 0. 0. 1. 9.]\n",
            " [1. 1. 1. 0. 0. 0. 0. 0. 0. 1. 9. 1. 0. 0. 1. 1.]]\n"
          ]
        }
      ]
    },
    {
      "cell_type": "code",
      "source": [
        "msk = click(gr, msk, 0, 2)\n",
        "display(gr, msk)"
      ],
      "metadata": {
        "colab": {
          "base_uri": "https://localhost:8080/"
        },
        "id": "2ekLpPONalmN",
        "outputId": "c23fadb8-aa32-4a9b-97fa-5f84b454a6b4"
      },
      "execution_count": 71,
      "outputs": [
        {
          "output_type": "stream",
          "name": "stdout",
          "text": [
            "0 0 1 9 1 1 9 1 0 ■ ■ ■ ■ ■ ■ ■ \n",
            "0 0 2 2 2 1 2 2 2 ■ ■ ■ ■ ■ ■ ■ \n",
            "0 0 1 9 1 0 1 ■ ■ ■ ■ ■ ■ ■ ■ ■ \n",
            "1 1 1 1 1 0 1 ■ ■ ■ ■ ■ ■ ■ ■ ■ \n",
            "9 2 1 ■ ■ ■ ■ ■ ■ ■ ■ ■ ■ ■ ■ ■ \n",
            "■ ■ ■ ■ ■ ■ ■ ■ ■ ■ ■ ■ ■ ■ ■ ■ \n",
            "■ ■ ■ ■ ■ ■ ■ ■ ■ ■ ■ ■ ■ ■ ■ ■ \n",
            "■ ■ ■ ■ ■ ■ ■ ■ ■ ■ ■ ■ ■ ■ ■ ■ \n",
            "■ ■ ■ ■ ■ ■ ■ ■ ■ ■ ■ ■ ■ ■ ■ ■ \n",
            "■ ■ ■ ■ ■ ■ ■ ■ ■ ■ ■ ■ ■ ■ ■ ■ \n",
            "■ ■ ■ ■ ■ ■ ■ ■ ■ ■ ■ ■ ■ ■ ■ ■ \n",
            "■ ■ ■ ■ ■ ■ ■ ■ ■ ■ ■ ■ ■ ■ ■ ■ \n",
            "■ ■ ■ ■ ■ ■ ■ ■ ■ ■ ■ ■ ■ ■ ■ ■ \n",
            "■ ■ ■ ■ ■ ■ ■ ■ ■ ■ ■ ■ ■ ■ ■ ■ \n",
            "■ ■ ■ ■ ■ ■ ■ ■ ■ ■ ■ ■ ■ ■ ■ ■ \n",
            "■ ■ ■ ■ ■ ■ ■ ■ ■ ■ ■ ■ ■ ■ ■ ■ \n"
          ]
        }
      ]
    },
    {
      "cell_type": "markdown",
      "source": [
        "# Design 1 - Full-Grid with Probabilities"
      ],
      "metadata": {
        "id": "Z9PqehcFfl99"
      }
    },
    {
      "cell_type": "code",
      "execution_count": 74,
      "metadata": {
        "id": "_kiP3E82fiwu"
      },
      "outputs": [],
      "source": [
        "class fullGridProbabilitySolver():\n",
        "\n",
        "  model = None\n",
        "\n",
        "  def __init__(self, gridsize = (16,16), mines = 40, epochs = 10, testing_training_size = 1000, split = 0.2, batch_size = 64, training_obfuscation = 0.5, verbose = False):\n",
        "    self.gridsize = gridsize\n",
        "    self.mines = mines\n",
        "    self.epochs = epochs\n",
        "    self.split = split\n",
        "    self.batch_size = batch_size\n",
        "    self.testing_training_size = testing_training_size\n",
        "    self.obfuscated_tiles = math.floor(mines * training_obfuscation)\n",
        "    self.verbose = verbose\n",
        "\n",
        "    self.testing_puzzles = []\n",
        "\n",
        "    self.model = keras.models.Sequential()\n",
        "    self.model.add(Conv2D((self.gridsize[0]*self.gridsize[1]), kernel_size=(5,5), activation='relu', padding='same', input_shape=(self.gridsize[0],self.gridsize[1],1)))\n",
        "    self.model.add(BatchNormalization())\n",
        "    self.model.add(Conv2D((self.gridsize[0]*self.gridsize[1]), kernel_size=(5,5), activation='relu', padding='same'))\n",
        "    self.model.add(BatchNormalization())\n",
        "    self.model.add(Conv2D((self.gridsize[0]*self.gridsize[1]), kernel_size=(3,3), activation='relu', padding='same'))\n",
        "\n",
        "    self.model.add(Flatten())\n",
        "    self.model.add(Dense((self.gridsize[0]*self.gridsize[1]*2)))\n",
        "    self.model.add(Reshape((-1,2)))\n",
        "    self.model.add(Activation('softmax'))\n",
        "\n",
        "    self.model.compile(loss='sparse_categorical_crossentropy', optimizer='adam')\n",
        "\n",
        "  def get_data(self):\n",
        "    data = []\n",
        "    print(\"genearting \" + str(self.testing_training_size) + \" grids\")\n",
        "    for i in range(self.testing_training_size):\n",
        "      data.append(construct_grid(self.gridsize,self.mines))\n",
        "      if (i % 100 == 0):\n",
        "        print(\"Generated \" + str(i) + \" puzzles\")\n",
        "    return data\n",
        "\n",
        "  def normalise(self, val):\n",
        "    return val/9\n",
        "\n",
        "  def denormalise(self, val):\n",
        "    return val*9\n",
        "\n",
        "  def obfuscate_grid(self, grid):\n",
        "    for i in range(self.obfuscated_tiles):\n",
        "      x_loc = rand.randint(0, self.gridsize[0]-1)\n",
        "      y_loc = rand.randint(0, self.gridsize[1]-1)\n",
        "      grid[x_loc][y_loc] = 0\n",
        "    return grid\n",
        "\n",
        "  def format_as_solution(self, grid):\n",
        "    binary_solution = (grid == 9)\n",
        "    return np.array(binary_solution)\n",
        "\n",
        "  def get_testing_training_split(self):\n",
        "    data = self.get_data()\n",
        "    solutions = []\n",
        "    puzzles = []\n",
        "    print(\"working through testing puzzles\")\n",
        "    for puzzle in data:\n",
        "      solutions.append(self.format_as_solution(np.copy(puzzle)))\n",
        "      puzzles.append(self.normalise(np.array(self.obfuscate_grid(np.copy(puzzle)))))\n",
        "    training_puzzles, _, training_solutions, _ = train_test_split(np.array(puzzles), np.array(solutions), test_size=self.split, shuffle=False)\n",
        "    testing_puzzles = []\n",
        "    for x in range(1,math.ceil(self.split * self.testing_training_size)):\n",
        "      testing_puzzles.append(data[x * -1])\n",
        "    print(str(len(training_puzzles)) + \" training puzzles\")\n",
        "    print(str(len(testing_puzzles)) + \" testing puzzles\")\n",
        "    return training_puzzles, training_solutions, testing_puzzles\n",
        "\n",
        "\n",
        "  def train(self, tr_puzzles, tr_solutions):\n",
        "    self.model.fit(tr_puzzles, tr_solutions, batch_size = self.batch_size, epochs=self.epochs, verbose=1)\n",
        "\n",
        "  def get_model(self):\n",
        "    return self.model\n",
        "\n",
        "  def generate_model(self):\n",
        "    training_puzzles, training_solutions, testing_puzzles = self.get_testing_training_split()\n",
        "    self.testing_puzzles = testing_puzzles\n",
        "    self.training_puzzles = training_puzzles\n",
        "    training_puzzles = [training_puzzles]\n",
        "    self.train(training_puzzles, training_solutions)\n",
        "\n",
        "\n",
        "  def test(self):\n",
        "    correct = 0\n",
        "    total = 0\n",
        "    for puzzle in self.testing_puzzles:\n",
        "      total += 1\n",
        "      mask = np.zeros((self.gridsize[0],self.gridsize[1]))\n",
        "      mask = click(puzzle,mask,0,0)\n",
        "      while True:\n",
        "        masked_puzzle = np.copy(puzzle)*mask\n",
        "        if mask.sum() == self.gridsize[0] * self.gridsize[1]:\n",
        "          if self.verbose:\n",
        "            print(\"Looks like we managed to solve this one\")\n",
        "            print(masked_puzzle)\n",
        "            print(\"---------------------------------------\")\n",
        "          correct += 1\n",
        "          break\n",
        "        normalised_puzzle = self.normalise(masked_puzzle)\n",
        "        output = self.model.predict(normalised_puzzle)\n",
        "        max = np.argmax(output, axis = 2).reshape((self.gridsize[0],self.gridsize[1]))\n",
        "        probabilities = np.max(output, axis = 2).reshape((self.gridsize[0],self.gridsize[1]))\n",
        "        probabilities *= mask\n",
        "        index_of_best = np.argmax(probabilities)\n",
        "        x_locat, y_locat = (index_of_best // self.gridsize[0]), (index_of_best % self.gridsize[1])\n",
        "        if max[x_locat][y_locat] == 0:\n",
        "          t_mask = click(puzzle, mask, x_locat, y_locat)\n",
        "        else:\n",
        "          t_mask = flag(puzzle, mask, x_locat, y_locat)\n",
        "        if t_mask:\n",
        "          mask = t_mask\n",
        "        else:\n",
        "          if self.verbose:\n",
        "            print(\"Looks like we failed to solve this one\")\n",
        "            display(puzzle, mask)\n",
        "            print(\"--------------------------------------\")\n",
        "          break\n",
        "    print(\"We were able to solve \" + str(correct) + \" of the \" + str(total) + \"training puzzles\")\n",
        "    print(\"That is an accuracty of \" + str((correct/total)*100) + \"%\")\n",
        "\n",
        "  def quick_test(self):\n",
        "    puzzle = self.testing_puzzles[0]\n",
        "    print(puzzle)\n",
        "    mask = np.zeros((self.gridsize[0],self.gridsize[1]))\n",
        "    mask = click(puzzle,mask,0,0)\n",
        "    display(puzzle, mask)\n",
        "    while True:\n",
        "      \n",
        "      if mask.sum() == self.gridsize[0] * self.gridsize[1]:\n",
        "        print(\"Looks like we managed to solve this one\")\n",
        "        display(puzzle,mask)\n",
        "        print(\"---------------------------------------\")\n",
        "        break\n",
        "      normalised_puzzle = self.normalise(np.copy(puzzle))\n",
        "      masked_puzzle = normalised_puzzle * mask\n",
        "\n",
        "      output = self.model.predict(np.array([masked_puzzle]))\n",
        "\n",
        "      max = np.argmax(output, axis = 2).reshape((self.gridsize[0],self.gridsize[1]))\n",
        "      probabilities = np.max(output, axis = 2).reshape((self.gridsize[0],self.gridsize[1]))\n",
        "      inverse = (mask==0)\n",
        "      probabilities *= inverse\n",
        "      index_of_best = np.argmax(probabilities)\n",
        "      x_locat, y_locat = (index_of_best // self.gridsize[0]), (index_of_best % self.gridsize[1])\n",
        "      if max[x_locat][y_locat] == 0:\n",
        "        t_mask = click(puzzle, mask, x_locat, y_locat)\n",
        "      else:\n",
        "        t_mask = flag(puzzle, mask, x_locat, y_locat)\n",
        "      if t_mask is None:\n",
        "        print(\"Looks like we failed to solve this one\")\n",
        "        print(\"We picked \" + str(x_locat) + \",\" + str(y_locat))\n",
        "        display(puzzle, mask)\n",
        "        print(\"--------------------------------------\")\n",
        "        break\n",
        "\n",
        "      mask = t_mask\n",
        "              \n",
        "      print(\"At this step, we picked \" + str(x_locat) + \",\" + str(y_locat) + \".\")\n",
        "      print(\"This is the sate of the board now.\")\n",
        "      display(puzzle, mask)\n",
        "      print(\"---------------------------------\")"
      ]
    },
    {
      "cell_type": "code",
      "source": [
        "model = fullGridProbabilitySolver(testing_training_size = 500, epochs=5, batch_size=50, training_obfuscation=0.4)\n",
        "model.generate_model()\n",
        "model.quick_test()"
      ],
      "metadata": {
        "colab": {
          "base_uri": "https://localhost:8080/"
        },
        "id": "WLE8G3OR38b-",
        "outputId": "515176ec-e333-4dba-b10d-e7ae02e1209f"
      },
      "execution_count": 79,
      "outputs": [
        {
          "output_type": "stream",
          "name": "stdout",
          "text": [
            "genearting 1000 grids\n",
            "Generated 0 puzzles\n",
            "Generated 100 puzzles\n",
            "Generated 200 puzzles\n",
            "Generated 300 puzzles\n",
            "Generated 400 puzzles\n",
            "Generated 500 puzzles\n",
            "Generated 600 puzzles\n",
            "Generated 700 puzzles\n",
            "Generated 800 puzzles\n",
            "Generated 900 puzzles\n",
            "working through testing puzzles\n",
            "800 training puzzles\n",
            "199 testing puzzles\n",
            "Epoch 1/5\n",
            "16/16 [==============================] - 79s 4s/step - loss: 2.6098\n",
            "Epoch 2/5\n",
            "16/16 [==============================] - 65s 4s/step - loss: 0.4292\n",
            "Epoch 3/5\n",
            "16/16 [==============================] - 65s 4s/step - loss: 0.2954\n",
            "Epoch 4/5\n",
            "16/16 [==============================] - 65s 4s/step - loss: 0.1349\n",
            "Epoch 5/5\n",
            "16/16 [==============================] - 65s 4s/step - loss: 0.0382\n",
            "[[0. 2. 9. 3. 9. 1. 0. 1. 2. 2. 2. 1. 1. 1. 1. 1.]\n",
            " [1. 3. 9. 3. 2. 2. 1. 1. 9. 9. 3. 9. 2. 1. 9. 1.]\n",
            " [9. 3. 2. 3. 2. 9. 1. 1. 2. 2. 3. 9. 2. 1. 1. 1.]\n",
            " [1. 3. 9. 3. 9. 2. 1. 1. 1. 1. 1. 1. 1. 0. 0. 0.]\n",
            " [0. 2. 9. 3. 1. 1. 0. 2. 9. 2. 0. 0. 0. 0. 0. 0.]\n",
            " [1. 2. 3. 2. 1. 0. 0. 2. 9. 2. 0. 0. 0. 0. 0. 0.]\n",
            " [2. 9. 3. 9. 2. 0. 0. 2. 3. 3. 1. 0. 0. 0. 0. 0.]\n",
            " [9. 2. 3. 9. 3. 1. 1. 1. 9. 9. 1. 1. 1. 1. 0. 0.]\n",
            " [1. 1. 1. 1. 2. 9. 1. 1. 3. 3. 2. 1. 9. 1. 1. 1.]\n",
            " [1. 1. 1. 1. 2. 2. 1. 0. 1. 9. 1. 1. 1. 2. 2. 9.]\n",
            " [1. 9. 1. 2. 9. 2. 0. 1. 2. 3. 2. 1. 0. 1. 9. 2.]\n",
            " [1. 1. 1. 3. 9. 3. 0. 1. 9. 2. 9. 1. 0. 2. 2. 2.]\n",
            " [0. 1. 2. 4. 9. 2. 0. 1. 1. 2. 1. 2. 1. 2. 9. 1.]\n",
            " [0. 1. 9. 9. 3. 1. 0. 0. 0. 0. 0. 1. 9. 2. 1. 1.]\n",
            " [0. 1. 3. 9. 3. 1. 1. 1. 1. 1. 0. 2. 2. 2. 0. 0.]\n",
            " [0. 0. 1. 1. 2. 9. 1. 1. 9. 1. 0. 1. 9. 1. 0. 0.]]\n",
            "0 2 ■ ■ ■ ■ ■ ■ ■ ■ ■ ■ ■ ■ ■ ■ \n",
            "1 3 ■ ■ ■ ■ ■ ■ ■ ■ ■ ■ ■ ■ ■ ■ \n",
            "■ ■ ■ ■ ■ ■ ■ ■ ■ ■ ■ ■ ■ ■ ■ ■ \n",
            "■ ■ ■ ■ ■ ■ ■ ■ ■ ■ ■ ■ ■ ■ ■ ■ \n",
            "■ ■ ■ ■ ■ ■ ■ ■ ■ ■ ■ ■ ■ ■ ■ ■ \n",
            "■ ■ ■ ■ ■ ■ ■ ■ ■ ■ ■ ■ ■ ■ ■ ■ \n",
            "■ ■ ■ ■ ■ ■ ■ ■ ■ ■ ■ ■ ■ ■ ■ ■ \n",
            "■ ■ ■ ■ ■ ■ ■ ■ ■ ■ ■ ■ ■ ■ ■ ■ \n",
            "■ ■ ■ ■ ■ ■ ■ ■ ■ ■ ■ ■ ■ ■ ■ ■ \n",
            "■ ■ ■ ■ ■ ■ ■ ■ ■ ■ ■ ■ ■ ■ ■ ■ \n",
            "■ ■ ■ ■ ■ ■ ■ ■ ■ ■ ■ ■ ■ ■ ■ ■ \n",
            "■ ■ ■ ■ ■ ■ ■ ■ ■ ■ ■ ■ ■ ■ ■ ■ \n",
            "■ ■ ■ ■ ■ ■ ■ ■ ■ ■ ■ ■ ■ ■ ■ ■ \n",
            "■ ■ ■ ■ ■ ■ ■ ■ ■ ■ ■ ■ ■ ■ ■ ■ \n",
            "■ ■ ■ ■ ■ ■ ■ ■ ■ ■ ■ ■ ■ ■ ■ ■ \n",
            "■ ■ ■ ■ ■ ■ ■ ■ ■ ■ ■ ■ ■ ■ ■ ■ \n",
            "1/1 [==============================] - 0s 139ms/step\n",
            "At this step, we picked 0,13.\n",
            "This is the sate of the board now.\n",
            "0 2 ■ ■ ■ ■ ■ ■ ■ ■ ■ ■ ■ 1 ■ ■ \n",
            "1 3 ■ ■ ■ ■ ■ ■ ■ ■ ■ ■ ■ ■ ■ ■ \n",
            "■ ■ ■ ■ ■ ■ ■ ■ ■ ■ ■ ■ ■ ■ ■ ■ \n",
            "■ ■ ■ ■ ■ ■ ■ ■ ■ ■ ■ ■ ■ ■ ■ ■ \n",
            "■ ■ ■ ■ ■ ■ ■ ■ ■ ■ ■ ■ ■ ■ ■ ■ \n",
            "■ ■ ■ ■ ■ ■ ■ ■ ■ ■ ■ ■ ■ ■ ■ ■ \n",
            "■ ■ ■ ■ ■ ■ ■ ■ ■ ■ ■ ■ ■ ■ ■ ■ \n",
            "■ ■ ■ ■ ■ ■ ■ ■ ■ ■ ■ ■ ■ ■ ■ ■ \n",
            "■ ■ ■ ■ ■ ■ ■ ■ ■ ■ ■ ■ ■ ■ ■ ■ \n",
            "■ ■ ■ ■ ■ ■ ■ ■ ■ ■ ■ ■ ■ ■ ■ ■ \n",
            "■ ■ ■ ■ ■ ■ ■ ■ ■ ■ ■ ■ ■ ■ ■ ■ \n",
            "■ ■ ■ ■ ■ ■ ■ ■ ■ ■ ■ ■ ■ ■ ■ ■ \n",
            "■ ■ ■ ■ ■ ■ ■ ■ ■ ■ ■ ■ ■ ■ ■ ■ \n",
            "■ ■ ■ ■ ■ ■ ■ ■ ■ ■ ■ ■ ■ ■ ■ ■ \n",
            "■ ■ ■ ■ ■ ■ ■ ■ ■ ■ ■ ■ ■ ■ ■ ■ \n",
            "■ ■ ■ ■ ■ ■ ■ ■ ■ ■ ■ ■ ■ ■ ■ ■ \n",
            "---------------------------------\n",
            "1/1 [==============================] - 0s 53ms/step\n",
            "At this step, we picked 1,4.\n",
            "This is the sate of the board now.\n",
            "0 2 ■ ■ ■ ■ ■ ■ ■ ■ ■ ■ ■ 1 ■ ■ \n",
            "1 3 ■ ■ 2 ■ ■ ■ ■ ■ ■ ■ ■ ■ ■ ■ \n",
            "■ ■ ■ ■ ■ ■ ■ ■ ■ ■ ■ ■ ■ ■ ■ ■ \n",
            "■ ■ ■ ■ ■ ■ ■ ■ ■ ■ ■ ■ ■ ■ ■ ■ \n",
            "■ ■ ■ ■ ■ ■ ■ ■ ■ ■ ■ ■ ■ ■ ■ ■ \n",
            "■ ■ ■ ■ ■ ■ ■ ■ ■ ■ ■ ■ ■ ■ ■ ■ \n",
            "■ ■ ■ ■ ■ ■ ■ ■ ■ ■ ■ ■ ■ ■ ■ ■ \n",
            "■ ■ ■ ■ ■ ■ ■ ■ ■ ■ ■ ■ ■ ■ ■ ■ \n",
            "■ ■ ■ ■ ■ ■ ■ ■ ■ ■ ■ ■ ■ ■ ■ ■ \n",
            "■ ■ ■ ■ ■ ■ ■ ■ ■ ■ ■ ■ ■ ■ ■ ■ \n",
            "■ ■ ■ ■ ■ ■ ■ ■ ■ ■ ■ ■ ■ ■ ■ ■ \n",
            "■ ■ ■ ■ ■ ■ ■ ■ ■ ■ ■ ■ ■ ■ ■ ■ \n",
            "■ ■ ■ ■ ■ ■ ■ ■ ■ ■ ■ ■ ■ ■ ■ ■ \n",
            "■ ■ ■ ■ ■ ■ ■ ■ ■ ■ ■ ■ ■ ■ ■ ■ \n",
            "■ ■ ■ ■ ■ ■ ■ ■ ■ ■ ■ ■ ■ ■ ■ ■ \n",
            "■ ■ ■ ■ ■ ■ ■ ■ ■ ■ ■ ■ ■ ■ ■ ■ \n",
            "---------------------------------\n",
            "1/1 [==============================] - 0s 54ms/step\n",
            "At this step, we picked 3,1.\n",
            "This is the sate of the board now.\n",
            "0 2 ■ ■ ■ ■ ■ ■ ■ ■ ■ ■ ■ 1 ■ ■ \n",
            "1 3 ■ ■ 2 ■ ■ ■ ■ ■ ■ ■ ■ ■ ■ ■ \n",
            "■ ■ ■ ■ ■ ■ ■ ■ ■ ■ ■ ■ ■ ■ ■ ■ \n",
            "■ 3 ■ ■ ■ ■ ■ ■ ■ ■ ■ ■ ■ ■ ■ ■ \n",
            "■ ■ ■ ■ ■ ■ ■ ■ ■ ■ ■ ■ ■ ■ ■ ■ \n",
            "■ ■ ■ ■ ■ ■ ■ ■ ■ ■ ■ ■ ■ ■ ■ ■ \n",
            "■ ■ ■ ■ ■ ■ ■ ■ ■ ■ ■ ■ ■ ■ ■ ■ \n",
            "■ ■ ■ ■ ■ ■ ■ ■ ■ ■ ■ ■ ■ ■ ■ ■ \n",
            "■ ■ ■ ■ ■ ■ ■ ■ ■ ■ ■ ■ ■ ■ ■ ■ \n",
            "■ ■ ■ ■ ■ ■ ■ ■ ■ ■ ■ ■ ■ ■ ■ ■ \n",
            "■ ■ ■ ■ ■ ■ ■ ■ ■ ■ ■ ■ ■ ■ ■ ■ \n",
            "■ ■ ■ ■ ■ ■ ■ ■ ■ ■ ■ ■ ■ ■ ■ ■ \n",
            "■ ■ ■ ■ ■ ■ ■ ■ ■ ■ ■ ■ ■ ■ ■ ■ \n",
            "■ ■ ■ ■ ■ ■ ■ ■ ■ ■ ■ ■ ■ ■ ■ ■ \n",
            "■ ■ ■ ■ ■ ■ ■ ■ ■ ■ ■ ■ ■ ■ ■ ■ \n",
            "■ ■ ■ ■ ■ ■ ■ ■ ■ ■ ■ ■ ■ ■ ■ ■ \n",
            "---------------------------------\n",
            "1/1 [==============================] - 0s 55ms/step\n",
            "At this step, we picked 3,5.\n",
            "This is the sate of the board now.\n",
            "0 2 ■ ■ ■ ■ ■ ■ ■ ■ ■ ■ ■ 1 ■ ■ \n",
            "1 3 ■ ■ 2 ■ ■ ■ ■ ■ ■ ■ ■ ■ ■ ■ \n",
            "■ ■ ■ ■ ■ ■ ■ ■ ■ ■ ■ ■ ■ ■ ■ ■ \n",
            "■ 3 ■ ■ ■ 2 ■ ■ ■ ■ ■ ■ ■ ■ ■ ■ \n",
            "■ ■ ■ ■ ■ ■ ■ ■ ■ ■ ■ ■ ■ ■ ■ ■ \n",
            "■ ■ ■ ■ ■ ■ ■ ■ ■ ■ ■ ■ ■ ■ ■ ■ \n",
            "■ ■ ■ ■ ■ ■ ■ ■ ■ ■ ■ ■ ■ ■ ■ ■ \n",
            "■ ■ ■ ■ ■ ■ ■ ■ ■ ■ ■ ■ ■ ■ ■ ■ \n",
            "■ ■ ■ ■ ■ ■ ■ ■ ■ ■ ■ ■ ■ ■ ■ ■ \n",
            "■ ■ ■ ■ ■ ■ ■ ■ ■ ■ ■ ■ ■ ■ ■ ■ \n",
            "■ ■ ■ ■ ■ ■ ■ ■ ■ ■ ■ ■ ■ ■ ■ ■ \n",
            "■ ■ ■ ■ ■ ■ ■ ■ ■ ■ ■ ■ ■ ■ ■ ■ \n",
            "■ ■ ■ ■ ■ ■ ■ ■ ■ ■ ■ ■ ■ ■ ■ ■ \n",
            "■ ■ ■ ■ ■ ■ ■ ■ ■ ■ ■ ■ ■ ■ ■ ■ \n",
            "■ ■ ■ ■ ■ ■ ■ ■ ■ ■ ■ ■ ■ ■ ■ ■ \n",
            "■ ■ ■ ■ ■ ■ ■ ■ ■ ■ ■ ■ ■ ■ ■ ■ \n",
            "---------------------------------\n",
            "1/1 [==============================] - 0s 56ms/step\n",
            "Looks like we failed to solve this one\n",
            "We picked 4,8\n",
            "0 2 ■ ■ ■ ■ ■ ■ ■ ■ ■ ■ ■ 1 ■ ■ \n",
            "1 3 ■ ■ 2 ■ ■ ■ ■ ■ ■ ■ ■ ■ ■ ■ \n",
            "■ ■ ■ ■ ■ ■ ■ ■ ■ ■ ■ ■ ■ ■ ■ ■ \n",
            "■ 3 ■ ■ ■ 2 ■ ■ ■ ■ ■ ■ ■ ■ ■ ■ \n",
            "■ ■ ■ ■ ■ ■ ■ ■ ■ ■ ■ ■ ■ ■ ■ ■ \n",
            "■ ■ ■ ■ ■ ■ ■ ■ ■ ■ ■ ■ ■ ■ ■ ■ \n",
            "■ ■ ■ ■ ■ ■ ■ ■ ■ ■ ■ ■ ■ ■ ■ ■ \n",
            "■ ■ ■ ■ ■ ■ ■ ■ ■ ■ ■ ■ ■ ■ ■ ■ \n",
            "■ ■ ■ ■ ■ ■ ■ ■ ■ ■ ■ ■ ■ ■ ■ ■ \n",
            "■ ■ ■ ■ ■ ■ ■ ■ ■ ■ ■ ■ ■ ■ ■ ■ \n",
            "■ ■ ■ ■ ■ ■ ■ ■ ■ ■ ■ ■ ■ ■ ■ ■ \n",
            "■ ■ ■ ■ ■ ■ ■ ■ ■ ■ ■ ■ ■ ■ ■ ■ \n",
            "■ ■ ■ ■ ■ ■ ■ ■ ■ ■ ■ ■ ■ ■ ■ ■ \n",
            "■ ■ ■ ■ ■ ■ ■ ■ ■ ■ ■ ■ ■ ■ ■ ■ \n",
            "■ ■ ■ ■ ■ ■ ■ ■ ■ ■ ■ ■ ■ ■ ■ ■ \n",
            "■ ■ ■ ■ ■ ■ ■ ■ ■ ■ ■ ■ ■ ■ ■ ■ \n",
            "--------------------------------------\n"
          ]
        }
      ]
    },
    {
      "cell_type": "code",
      "source": [
        "model.testing_puzzles[0]"
      ],
      "metadata": {
        "colab": {
          "base_uri": "https://localhost:8080/"
        },
        "id": "8djIWdUD8C8c",
        "outputId": "0f47d3f2-68d2-4c71-9da3-fed7c81a2a9e"
      },
      "execution_count": 40,
      "outputs": [
        {
          "output_type": "execute_result",
          "data": {
            "text/plain": [
              "array([[0., 1., 9., 1., 1., 9., 3., 9., 2., 1., 9., 9., 1., 1., 1., 1.],\n",
              "       [1., 2., 2., 1., 1., 2., 4., 9., 2., 1., 2., 2., 1., 1., 9., 1.],\n",
              "       [1., 9., 2., 1., 1., 1., 9., 2., 1., 1., 1., 1., 1., 3., 3., 2.],\n",
              "       [1., 1., 2., 9., 2., 3., 2., 2., 0., 1., 9., 2., 3., 9., 9., 1.],\n",
              "       [0., 0., 1., 2., 9., 2., 9., 1., 0., 1., 2., 9., 3., 9., 3., 1.],\n",
              "       [0., 1., 1., 2., 1., 2., 1., 1., 1., 1., 2., 1., 2., 1., 1., 0.],\n",
              "       [1., 2., 9., 1., 0., 0., 0., 1., 2., 9., 1., 0., 0., 0., 0., 0.],\n",
              "       [1., 9., 2., 1., 0., 1., 1., 2., 9., 2., 1., 0., 0., 0., 0., 0.],\n",
              "       [2., 3., 3., 2., 1., 1., 9., 2., 1., 1., 0., 0., 0., 0., 0., 0.],\n",
              "       [9., 2., 9., 9., 2., 2., 1., 1., 0., 0., 0., 0., 1., 1., 1., 0.],\n",
              "       [1., 3., 3., 4., 9., 1., 0., 0., 1., 1., 1., 0., 1., 9., 1., 0.],\n",
              "       [1., 2., 9., 2., 1., 1., 1., 1., 2., 9., 1., 0., 1., 1., 2., 1.],\n",
              "       [2., 9., 3., 1., 0., 0., 1., 9., 3., 2., 3., 2., 2., 1., 1., 9.],\n",
              "       [2., 9., 2., 0., 0., 0., 1., 1., 2., 9., 2., 9., 9., 2., 1., 1.],\n",
              "       [2., 2., 2., 0., 0., 0., 0., 0., 1., 1., 2., 3., 9., 3., 2., 1.],\n",
              "       [1., 9., 1., 0., 0., 0., 0., 0., 0., 0., 0., 1., 2., 9., 2., 9.]])"
            ]
          },
          "metadata": {},
          "execution_count": 40
        }
      ]
    },
    {
      "cell_type": "markdown",
      "source": [
        "# Design 2 - Segmented Grid with Probabilities"
      ],
      "metadata": {
        "id": "mP8uDs_Afy3J"
      }
    },
    {
      "cell_type": "code",
      "source": [
        "var = None\n",
        "if var:\n",
        "  print(\"y\")\n",
        "else:\n",
        "  print(\"N\")"
      ],
      "metadata": {
        "colab": {
          "base_uri": "https://localhost:8080/"
        },
        "id": "R_Sm1ovUf3Zj",
        "outputId": "661465ef-9e6b-4945-cd1c-6e51ef8e938d"
      },
      "execution_count": 27,
      "outputs": [
        {
          "output_type": "stream",
          "name": "stdout",
          "text": [
            "N\n"
          ]
        }
      ]
    }
  ]
}